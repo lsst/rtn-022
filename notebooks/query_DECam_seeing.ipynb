{
 "cells": [
  {
   "cell_type": "markdown",
   "metadata": {},
   "source": [
    "# Query DECam seeing"
   ]
  },
  {
   "cell_type": "markdown",
   "metadata": {},
   "source": [
    "## jupyter notebook boilerplate"
   ]
  },
  {
   "cell_type": "code",
   "execution_count": 1,
   "metadata": {},
   "outputs": [
    {
     "data": {
      "text/html": [
       "<style>.container { width:90% !important; }</style>"
      ],
      "text/plain": [
       "<IPython.core.display.HTML object>"
      ]
     },
     "metadata": {},
     "output_type": "display_data"
    }
   ],
   "source": [
    "%matplotlib inline\n",
    "#%config InlineBackend.figure_format = 'svg'\n",
    "from IPython.core.display import display, HTML\n",
    "display(HTML(\"<style>.container { width:90% !important; }</style>\"))\n",
    "import sys\n",
    "import os\n",
    "from collections import namedtuple\n",
    "from functools import partial\n",
    "import psycopg2\n",
    "import numpy as np\n",
    "import pandas as pd\n",
    "from astropy.coordinates import EarthLocation"
   ]
  },
  {
   "cell_type": "code",
   "execution_count": 2,
   "metadata": {},
   "outputs": [],
   "source": [
    "data_dir = '../data'"
   ]
  },
  {
   "cell_type": "markdown",
   "metadata": {},
   "source": [
    "## Query the SISPI database for DECam exposure metadata"
   ]
  },
  {
   "cell_type": "code",
   "execution_count": 3,
   "metadata": {},
   "outputs": [],
   "source": [
    "sispidb_connect = partial(psycopg2.connect, \n",
    "                          database='decam_prd',\n",
    "                          user='decam_reader',\n",
    "                          host='des61.fnal.gov',\n",
    "                          port=5443)\n",
    "\n",
    "with sispidb_connect() as conn:\n",
    "    decam = pd.read_sql(\"\"\"\n",
    "    SELECT e.id, e.date, e.filter, e.airmass, e.qc_fwhm,\n",
    "    f.seeing_correction*ctio_seeing_airmass_corr(ra, declination, date)/0.916 AS corr\n",
    "    FROM exposure.exposure AS e\n",
    "    JOIN obstac.filters AS otf ON otf.filter_name=e.filter \n",
    "    NATURAL JOIN obstac.filter_seeing AS f\n",
    "    WHERE flavor='object'\n",
    "      AND qc_fwhm IS NOT NULL\n",
    "    \"\"\", conn)\n",
    "    \n",
    "decam.set_index('date', drop=False, inplace=True)\n",
    "decam.index.name = 't'\n",
    "decam.sort_index(inplace=True)"
   ]
  },
  {
   "cell_type": "markdown",
   "metadata": {},
   "source": [
    "## Calculate useful derived values"
   ]
  },
  {
   "cell_type": "code",
   "execution_count": 4,
   "metadata": {},
   "outputs": [],
   "source": [
    "decam['mjd'] = decam.index.to_julian_date() - 2400000.5\n",
    "decam['month'] = decam.index.month\n",
    "decam['year'] = decam.index.year\n",
    "\n",
    "# night is like mjd, but shifts the rollover to be noon, mean local solar time\n",
    "site_longitude_deg = EarthLocation.of_site('Cerro Tololo').lon.deg\n",
    "site_night_shift = (180.0 + site_longitude_deg)/360.0\n",
    "decam['night'] = np.floor(decam.mjd + site_night_shift).astype(int)"
   ]
  },
  {
   "cell_type": "markdown",
   "metadata": {},
   "source": [
    "From the measured delivered FWHM, calculate an atmospheric seeing by subtracting an instrumental contribution (in quadrature) and correcting for airmass and wavelength."
   ]
  },
  {
   "cell_type": "code",
   "execution_count": 5,
   "metadata": {},
   "outputs": [
    {
     "name": "stderr",
     "output_type": "stream",
     "text": [
      "/data/des91.b/data/neilsen/anaconda/envs/ehn38_91/lib/python3.8/site-packages/pandas/core/series.py:856: RuntimeWarning: invalid value encountered in sqrt\n",
      "  result = getattr(ufunc, method)(*inputs, **kwargs)\n"
     ]
    }
   ],
   "source": [
    "decam_inst = 0.45\n",
    "decam['seeing'] = np.sqrt((decam.qc_fwhm*decam.qc_fwhm - decam_inst**2))*decam['corr']"
   ]
  },
  {
   "cell_type": "code",
   "execution_count": 6,
   "metadata": {},
   "outputs": [
    {
     "data": {
      "text/html": [
       "<div>\n",
       "<style scoped>\n",
       "    .dataframe tbody tr th:only-of-type {\n",
       "        vertical-align: middle;\n",
       "    }\n",
       "\n",
       "    .dataframe tbody tr th {\n",
       "        vertical-align: top;\n",
       "    }\n",
       "\n",
       "    .dataframe thead th {\n",
       "        text-align: right;\n",
       "    }\n",
       "</style>\n",
       "<table border=\"1\" class=\"dataframe\">\n",
       "  <thead>\n",
       "    <tr style=\"text-align: right;\">\n",
       "      <th></th>\n",
       "      <th>id</th>\n",
       "      <th>date</th>\n",
       "      <th>filter</th>\n",
       "      <th>airmass</th>\n",
       "      <th>qc_fwhm</th>\n",
       "      <th>corr</th>\n",
       "      <th>mjd</th>\n",
       "      <th>month</th>\n",
       "      <th>year</th>\n",
       "      <th>night</th>\n",
       "      <th>seeing</th>\n",
       "    </tr>\n",
       "    <tr>\n",
       "      <th>t</th>\n",
       "      <th></th>\n",
       "      <th></th>\n",
       "      <th></th>\n",
       "      <th></th>\n",
       "      <th></th>\n",
       "      <th></th>\n",
       "      <th></th>\n",
       "      <th></th>\n",
       "      <th></th>\n",
       "      <th></th>\n",
       "      <th></th>\n",
       "    </tr>\n",
       "  </thead>\n",
       "  <tbody>\n",
       "    <tr>\n",
       "      <th>2012-12-12 01:27:21.949000+00:00</th>\n",
       "      <td>160509</td>\n",
       "      <td>2012-12-12 01:27:21.949000+00:00</td>\n",
       "      <td>r</td>\n",
       "      <td>1.23</td>\n",
       "      <td>1.09</td>\n",
       "      <td>0.927534</td>\n",
       "      <td>56273.060671</td>\n",
       "      <td>12</td>\n",
       "      <td>2012</td>\n",
       "      <td>56273</td>\n",
       "      <td>0.920832</td>\n",
       "    </tr>\n",
       "    <tr>\n",
       "      <th>2012-12-12 02:01:01.099401+00:00</th>\n",
       "      <td>160522</td>\n",
       "      <td>2012-12-12 02:01:01.099401+00:00</td>\n",
       "      <td>r</td>\n",
       "      <td>1.48</td>\n",
       "      <td>1.37</td>\n",
       "      <td>0.826147</td>\n",
       "      <td>56273.084041</td>\n",
       "      <td>12</td>\n",
       "      <td>2012</td>\n",
       "      <td>56273</td>\n",
       "      <td>1.069023</td>\n",
       "    </tr>\n",
       "    <tr>\n",
       "      <th>2012-12-12 02:23:28.874983+00:00</th>\n",
       "      <td>160541</td>\n",
       "      <td>2012-12-12 02:23:28.874983+00:00</td>\n",
       "      <td>g</td>\n",
       "      <td>1.62</td>\n",
       "      <td>1.57</td>\n",
       "      <td>0.739190</td>\n",
       "      <td>56273.099640</td>\n",
       "      <td>12</td>\n",
       "      <td>2012</td>\n",
       "      <td>56273</td>\n",
       "      <td>1.111837</td>\n",
       "    </tr>\n",
       "    <tr>\n",
       "      <th>2012-12-12 02:24:56.874680+00:00</th>\n",
       "      <td>160542</td>\n",
       "      <td>2012-12-12 02:24:56.874680+00:00</td>\n",
       "      <td>g</td>\n",
       "      <td>1.63</td>\n",
       "      <td>1.61</td>\n",
       "      <td>0.736354</td>\n",
       "      <td>56273.100658</td>\n",
       "      <td>12</td>\n",
       "      <td>2012</td>\n",
       "      <td>56273</td>\n",
       "      <td>1.138280</td>\n",
       "    </tr>\n",
       "    <tr>\n",
       "      <th>2012-12-12 02:26:25.908967+00:00</th>\n",
       "      <td>160543</td>\n",
       "      <td>2012-12-12 02:26:25.908967+00:00</td>\n",
       "      <td>g</td>\n",
       "      <td>1.64</td>\n",
       "      <td>1.76</td>\n",
       "      <td>0.733459</td>\n",
       "      <td>56273.101689</td>\n",
       "      <td>12</td>\n",
       "      <td>2012</td>\n",
       "      <td>56273</td>\n",
       "      <td>1.247979</td>\n",
       "    </tr>\n",
       "  </tbody>\n",
       "</table>\n",
       "</div>"
      ],
      "text/plain": [
       "                                      id                             date  \\\n",
       "t                                                                           \n",
       "2012-12-12 01:27:21.949000+00:00  160509 2012-12-12 01:27:21.949000+00:00   \n",
       "2012-12-12 02:01:01.099401+00:00  160522 2012-12-12 02:01:01.099401+00:00   \n",
       "2012-12-12 02:23:28.874983+00:00  160541 2012-12-12 02:23:28.874983+00:00   \n",
       "2012-12-12 02:24:56.874680+00:00  160542 2012-12-12 02:24:56.874680+00:00   \n",
       "2012-12-12 02:26:25.908967+00:00  160543 2012-12-12 02:26:25.908967+00:00   \n",
       "\n",
       "                                 filter  airmass  qc_fwhm      corr  \\\n",
       "t                                                                     \n",
       "2012-12-12 01:27:21.949000+00:00      r     1.23     1.09  0.927534   \n",
       "2012-12-12 02:01:01.099401+00:00      r     1.48     1.37  0.826147   \n",
       "2012-12-12 02:23:28.874983+00:00      g     1.62     1.57  0.739190   \n",
       "2012-12-12 02:24:56.874680+00:00      g     1.63     1.61  0.736354   \n",
       "2012-12-12 02:26:25.908967+00:00      g     1.64     1.76  0.733459   \n",
       "\n",
       "                                           mjd  month  year  night    seeing  \n",
       "t                                                                             \n",
       "2012-12-12 01:27:21.949000+00:00  56273.060671     12  2012  56273  0.920832  \n",
       "2012-12-12 02:01:01.099401+00:00  56273.084041     12  2012  56273  1.069023  \n",
       "2012-12-12 02:23:28.874983+00:00  56273.099640     12  2012  56273  1.111837  \n",
       "2012-12-12 02:24:56.874680+00:00  56273.100658     12  2012  56273  1.138280  \n",
       "2012-12-12 02:26:25.908967+00:00  56273.101689     12  2012  56273  1.247979  "
      ]
     },
     "execution_count": 6,
     "metadata": {},
     "output_type": "execute_result"
    }
   ],
   "source": [
    "decam.head()"
   ]
  },
  {
   "cell_type": "markdown",
   "metadata": {},
   "source": [
    "## Save the DECam seeing data"
   ]
  },
  {
   "cell_type": "code",
   "execution_count": 7,
   "metadata": {},
   "outputs": [],
   "source": [
    "decam.to_hdf(os.path.join(data_dir, 'decam_seeing.h5'), 'decam', complevel=9)"
   ]
  },
  {
   "cell_type": "code",
   "execution_count": null,
   "metadata": {},
   "outputs": [],
   "source": []
  }
 ],
 "metadata": {
  "kernelspec": {
   "display_name": "ehn38_91",
   "language": "python",
   "name": "ehn38_91"
  },
  "language_info": {
   "codemirror_mode": {
    "name": "ipython",
    "version": 3
   },
   "file_extension": ".py",
   "mimetype": "text/x-python",
   "name": "python",
   "nbconvert_exporter": "python",
   "pygments_lexer": "ipython3",
   "version": "3.8.2"
  }
 },
 "nbformat": 4,
 "nbformat_minor": 2
}
